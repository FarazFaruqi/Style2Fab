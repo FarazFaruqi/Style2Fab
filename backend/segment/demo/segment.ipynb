{
 "cells": [
  {
   "cell_type": "markdown",
   "metadata": {},
   "source": [
    "# Segmentation Demo"
   ]
  },
  {
   "cell_type": "markdown",
   "metadata": {},
   "source": [
    "#### Imports"
   ]
  },
  {
   "cell_type": "code",
   "execution_count": null,
   "metadata": {},
   "outputs": [],
   "source": [
    "import sys\n",
    "import pymeshlab\n",
    "import numpy as np\n",
    "from tqdm import tqdm\n",
    "from ..views import segment_mesh\n",
    "sys.setrecursionlimit(10000)"
   ]
  },
  {
   "cell_type": "markdown",
   "metadata": {},
   "source": [
    "#### Global Constants"
   ]
  },
  {
   "cell_type": "code",
   "execution_count": 10,
   "metadata": {},
   "outputs": [],
   "source": [
    "mesh_path = \"./demo.obj\"\n",
    "colors = [[1, 1, 1, 1], [1, 0, 0, 1], [0, 1, 0, 1], [0, 0, 1, 1], [1, 0.8, 1, 1], [1, 0.1, 0.6, 1], [1, 0.647, 0, 1], [0.5, 0.647, 0, 1], [1, 0.647, 0.5, 1], [0.5, 0.647, 0.5, 1], [0.5, 0.5, 0.2, 1], [0.1, 0.8, 0.1, 1], [0.9, 0.1, 0.5, 1], [0.2, 0.1, 0.9, 1], [0.8, 0.8, 0.1, 1], [0.843, 0.6423, 0.123, 1], [0.8123, 0.2423, 0.654, 1], [0.75, 0.63, 0.3, 1], [0.912, 0.36, 0.18, 1]]"
   ]
  },
  {
   "cell_type": "markdown",
   "metadata": {},
   "source": [
    "#### Segmentation"
   ]
  },
  {
   "cell_type": "code",
   "execution_count": null,
   "metadata": {},
   "outputs": [],
   "source": [
    "mesh_set = pymeshlab.MeshSet()\n",
    "mesh_set.load_new_mesh(mesh_path)\n",
    "labels = segment_mesh(mesh_set.current_mesh(), k = 12)"
   ]
  }
 ],
 "metadata": {
  "kernelspec": {
   "display_name": "Python 3.9.13 ('ss3d': conda)",
   "language": "python",
   "name": "python3"
  },
  "language_info": {
   "codemirror_mode": {
    "name": "ipython",
    "version": 3
   },
   "file_extension": ".py",
   "mimetype": "text/x-python",
   "name": "python",
   "nbconvert_exporter": "python",
   "pygments_lexer": "ipython3",
   "version": "3.9.13"
  },
  "orig_nbformat": 4,
  "vscode": {
   "interpreter": {
    "hash": "94641a8c55455ace5951dc44817231102d61b9478633a81e23b1eefed27cbe22"
   }
  }
 },
 "nbformat": 4,
 "nbformat_minor": 2
}
