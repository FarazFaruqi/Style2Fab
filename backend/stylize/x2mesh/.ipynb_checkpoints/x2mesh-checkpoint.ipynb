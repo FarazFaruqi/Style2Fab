{
 "cells": [
  {
   "cell_type": "markdown",
   "metadata": {},
   "source": [
    "# X2Mesh\n",
    "\n",
    "A user interface for stylizing 3D objects given a text prompt or an image. The interface comes with several models which tests can be ran on, running the imports cell will reveal which models are available for testing\n",
    "<br />\n",
    "Based on the work of [text2mesh](https://threedle.github.io/text2mesh/), the code has been modified to create a testing, parameter tuning, and visualizing pipeline. \n",
    "<br />\n",
    "All relevant code for this notebook can be found on the [IMAD](https://github.com/ATKatary/IMAD) github"
   ]
  },
  {
   "cell_type": "markdown",
   "metadata": {},
   "source": [
    "#### Imports"
   ]
  },
  {
   "cell_type": "code",
   "execution_count": null,
   "metadata": {
    "scrolled": true
   },
   "outputs": [],
   "source": [
    "import shlex\n",
    "import subprocess\n",
    "%matplotlib inline\n",
    "import matplotlib.image as mpimg\n",
    "from matplotlib import pyplot as plt\n",
    "from implementation.helpers.general_helpers import *\n",
    "\n",
    "make_prompt = lambda content, style: [f\"A {content} made of {style} \",\n",
    "                                      f\"A {style}-shaped {content}\",\n",
    "                                      f\"{content} that looks like its made of {style}\",\n",
    "                                      f\"{content} in the style of {style}\",\n",
    "                                      f\"{content} in the style of beautiful {style}\",\n",
    "                                      f\"An artistic {content} that mimics beautiful {style}\"]\n",
    "home_dir = \"./implementation\"\n",
    "text2mesh_path = \"./text2mesh\"\n",
    "models_dir = f\"{home_dir}/inputs\"\n",
    "models = get_valid_models(models_dir, models={}, text2mesh_path=text2mesh_path)"
   ]
  },
  {
   "cell_type": "markdown",
   "metadata": {},
   "source": [
    "## Image2Mesh Testing\n",
    "#### Prameters"
   ]
  },
  {
   "cell_type": "code",
   "execution_count": null,
   "metadata": {},
   "outputs": [],
   "source": [
    "img_n_aug = 5                                                                  # number of augmentations we add to the image\n",
    "n_iter = 1000                                                                  # number of iterations to run the network for\n",
    "img_lr = 0.0005                                                                # learning rate\n",
    "img_sigma = 10.0                                                               # frequency of texture spreading across mesh\n",
    "img_lr_decay = 0.9                                                             # decay learning rate\n",
    "obj, obj_path = select_model(models)\n",
    "output_dir = \"./implementation/outputs/img2mesh/lamp/wood/wood1\"\n",
    "img_path = download(home_dir, fn=\"style_image\")"
   ]
  },
  {
   "cell_type": "code",
   "execution_count": null,
   "metadata": {},
   "outputs": [],
   "source": [
    "!bash ./implementation/img2mesh.sh {obj_path} {output_dir} '{img_path}' {n_iter + 1} {text2mesh_path} {home_dir} {img_sigma} {img_lr_decay} {img_lr} {img_n_aug}"
   ]
  },
  {
   "cell_type": "markdown",
   "metadata": {},
   "source": [
    "#### Displaying Results"
   ]
  },
  {
   "cell_type": "code",
   "execution_count": null,
   "metadata": {},
   "outputs": [],
   "source": [
    "before_image_path = f\"{output_dir}/{obj}_iters_style_5/iter_0.jpg\"\n",
    "after_image_path = f\"{output_dir}/{obj}_iters_style_5/iter_{(n_iter // 100) * 100}.jpg\"\n",
    "\n",
    "display([before_image_path, after_image_path])"
   ]
  },
  {
   "cell_type": "markdown",
   "metadata": {},
   "source": [
    "## Text2Mesh Testing\n",
    "#### Parameters"
   ]
  },
  {
   "cell_type": "code",
   "execution_count": null,
   "metadata": {},
   "outputs": [],
   "source": [
    "run_all = \"n\"; style = \"wooden\"; content = \"vase\"\n",
    "if run_all is None: run_all = input(\"Run all? (y/n): \")\n",
    "if style is None: style = input(\"What is the style that I should test? \")\n",
    "if content is None: content = input(\"What is the content that I should test? \")\n",
    "prompts = make_prompt(content, style)\n",
    "\n",
    "n_iter = 400 \n",
    "text_n_aug = 1\n",
    "text_lr = 0.0005\n",
    "text_sigma = 10.0\n",
    "text_lr_decay = 0.9\n",
    "selected_model = \"vase\"\n",
    "output_dir = \"./implementation/outputs/text2mesh/vase/wood\"\n",
    "vertices_to_not_change = \"./implementation/inputs/vase/vertices.txt\"\n",
    "if run_all == \"n\": \n",
    "    obj, obj_path = select_model(models, selected_model)"
   ]
  },
  {
   "cell_type": "code",
   "execution_count": null,
   "metadata": {},
   "outputs": [],
   "source": [
    "!bash ./implementation/text2mesh.sh {obj_path} {output_dir} '{prompts[0]}' {n_iter + 1} {text2mesh_path} {home_dir} {text_sigma} {text_lr_decay} {text_lr} {text_n_aug} {vertices_to_not_change}"
   ]
  },
  {
   "cell_type": "markdown",
   "metadata": {},
   "source": [
    "#### Batch Testing"
   ]
  },
  {
   "cell_type": "code",
   "execution_count": null,
   "metadata": {},
   "outputs": [],
   "source": [
    "if run_all == \"y\":\n",
    "    for obj, obj_path in models.items():\n",
    "        for prompt in prompts:\n",
    "            subprocess.call(shlex.split(f\"bash ./implementation/img2mesh.sh {obj_path} {output_dir} '{prompt}' {n_iter + 1} {text2mesh_path} {home_dir} {text_sigma} {text_lr_decay} {text_lr} {text_n_aug}\"))\n",
    "else: \n",
    "    for prompt in prompts:\n",
    "        subprocess.call(shlex.split(f\"bash ./implementation/img2mesh.sh {obj_path} {output_dir} '{prompt}' {n_iter + 1} {text2mesh_path} {home_dir} {text_sigma} {text_lr_decay} {text_lr} {text_n_aug}\"))"
   ]
  },
  {
   "cell_type": "markdown",
   "metadata": {},
   "source": [
    "#### Display Results"
   ]
  },
  {
   "cell_type": "code",
   "execution_count": null,
   "metadata": {},
   "outputs": [],
   "source": [
    "before_image_path = f\"{output_dir}/{obj}_iters_style_0/iter_0.jpg\"\n",
    "after_image_path = f\"{output_dir}/{obj}_iters_style_0/iter_{(n_iter // 100) * 100}.jpg\"\n",
    "\n",
    "display([before_image_path, after_image_path])"
   ]
  },
  {
   "cell_type": "markdown",
   "metadata": {},
   "source": [
    "## Attributes\n",
    "The original [text2mesh](https://github.com/threedle/text2mesh) repositotory was cloned in the creation of this notebook  "
   ]
  }
 ],
 "metadata": {
  "interpreter": {
   "hash": "cadefa720d1a2267f4d12d08d812560a64cfe891877bc388bf0e8af3e4846067"
  },
  "kernelspec": {
   "display_name": "Python 3 (ipykernel)",
   "language": "python",
   "name": "python3"
  },
  "language_info": {
   "codemirror_mode": {
    "name": "ipython",
    "version": 3
   },
   "file_extension": ".py",
   "mimetype": "text/x-python",
   "name": "python",
   "nbconvert_exporter": "python",
   "pygments_lexer": "ipython3",
   "version": "3.7.12"
  }
 },
 "nbformat": 4,
 "nbformat_minor": 2
}
